{
  "cells": [
    {
      "cell_type": "code",
      "execution_count": null,
      "metadata": {
        "id": "LzfdxxXBI6Mn"
      },
      "outputs": [],
      "source": [
        "%%capture\n",
        "!wget \"https://github.com/aaravindravi/Brain-computer-interfaces/archive/refs/heads/master.zip\""
      ]
    },
    {
      "cell_type": "code",
      "execution_count": null,
      "metadata": {
        "id": "dTY7dwuhJT-Z"
      },
      "outputs": [],
      "source": [
        "%%capture\n",
        "!sudo apt-get install unzip\n",
        "!unzip \"/content/master.zip\""
      ]
    },
    {
      "cell_type": "code",
      "execution_count": null,
      "metadata": {
        "id": "L12xhSiSM4n-"
      },
      "outputs": [],
      "source": [
        "import sys\n",
        "import os\n",
        "sys.path.insert(0, os.path.abspath('/content/Brain-computer-interfaces-master'))"
      ]
    },
    {
      "cell_type": "code",
      "execution_count": null,
      "metadata": {
        "colab": {
          "base_uri": "https://localhost:8080/"
        },
        "id": "Pj0KQrg0eAaX",
        "outputId": "00f9dcca-2802-442f-9724-f3ec9db904a0"
      },
      "outputs": [
        {
          "output_type": "stream",
          "name": "stdout",
          "text": [
            "Mounted at /content/drive\n"
          ]
        }
      ],
      "source": [
        "from google.colab import drive\n",
        "drive.mount('/content/drive')"
      ]
    },
    {
      "cell_type": "code",
      "execution_count": null,
      "metadata": {
        "id": "qnjSa5KYNCRc"
      },
      "outputs": [],
      "source": [
        "%%capture\n",
        "import time\n",
        "\n",
        "import warnings\n",
        "import numpy as np\n",
        "import numpy.matlib as npm\n",
        "import pandas as pd\n",
        "import matplotlib.pyplot as plt\n",
        "import scipy.io as sio\n",
        "from sklearn.model_selection import KFold\n",
        "\n",
        "from keras.utils.np_utils import to_categorical\n",
        "from tensorflow.keras import optimizers\n",
        "from keras.losses import categorical_crossentropy\n",
        "\n",
        "from scripts import ssvep_utils as su\n",
        "warnings.filterwarnings('ignore')"
      ]
    },
    {
      "cell_type": "code",
      "execution_count": null,
      "metadata": {
        "id": "PpjRCbgxNYh0"
      },
      "outputs": [],
      "source": [
        "def get_training_data(features_data):\n",
        "    features_data = np.reshape(features_data, (features_data.shape[0], features_data.shape[1], \n",
        "                                               features_data.shape[2], \n",
        "                                               features_data.shape[3]*features_data.shape[4]))\n",
        "    train_data = features_data[:, :, 0, :].T\n",
        "    for target in range(1, features_data.shape[2]):\n",
        "        train_data = np.vstack([train_data, np.squeeze(features_data[:, :, target, :]).T])\n",
        "\n",
        "    train_data = np.reshape(train_data, (train_data.shape[0], train_data.shape[1], \n",
        "                                         train_data.shape[2], 1))\n",
        "    total_epochs_per_class = features_data.shape[3]\n",
        "    features_data = []\n",
        "    class_labels = np.arange(CNN_PARAMS['num_classes'])\n",
        "    labels = (npm.repmat(class_labels, total_epochs_per_class, 1).T).ravel()\n",
        "    labels = to_categorical(labels)\n",
        "    \n",
        "    return train_data, labels"
      ]
    },
    {
      "cell_type": "code",
      "execution_count": null,
      "metadata": {
        "id": "AErbPCgNNRZ9"
      },
      "outputs": [],
      "source": [
        "def train_CNN_cross_val_predict(train_data, labels, num_folds=10):\n",
        "    kf = KFold(n_splits=num_folds, shuffle=True)\n",
        "    kf.get_n_splits(train_data)\n",
        "    cv_acc = np.zeros((num_folds, 1))\n",
        "    fold = -1\n",
        "\n",
        "    for train_index, test_index in kf.split(train_data):\n",
        "\n",
        "        x_tr, x_ts = train_data[train_index], train_data[test_index]\n",
        "        y_tr, y_ts = labels[train_index], labels[test_index]\n",
        "        input_shape = np.array([x_tr.shape[1], x_tr.shape[2], x_tr.shape[3]])\n",
        "        \n",
        "        fold = fold + 1\n",
        "        \n",
        "        model = su.CNN_model(input_shape, CNN_PARAMS)\n",
        "        \n",
        "        sgd = optimizers.SGD(lr=CNN_PARAMS['learning_rate'], decay=CNN_PARAMS['lr_decay'], \n",
        "                             momentum=CNN_PARAMS['momentum'], nesterov=False)\n",
        "        model.compile(loss=categorical_crossentropy, optimizer=sgd, metrics=[\"accuracy\"])\n",
        "        history = model.fit(x_tr, y_tr, batch_size=CNN_PARAMS['batch_size'], \n",
        "                            epochs=CNN_PARAMS['epochs'], verbose=0)\n",
        "\n",
        "        score = model.evaluate(x_ts, y_ts, verbose=0) \n",
        "        cv_acc[fold, :] = score[1]*100\n",
        "        print(f'cv{fold+1}:{score[1]*100:.2f}%', end=\" \")\n",
        "    \n",
        "    return cv_acc"
      ]
    },
    {
      "cell_type": "code",
      "source": [
        "def train_CNN_block(train_data, train_labels, test_data, test_labels):\n",
        "    x_tr, x_ts = train_data, test_data\n",
        "    y_tr, y_ts = train_labels, test_labels\n",
        "    input_shape = np.array([x_tr.shape[1], x_tr.shape[2], x_tr.shape[3]])\n",
        "    model = su.CNN_model(input_shape, CNN_PARAMS)\n",
        "    sgd = optimizers.SGD(lr=CNN_PARAMS['learning_rate'], decay=CNN_PARAMS['lr_decay'], \n",
        "                             momentum=CNN_PARAMS['momentum'], nesterov=False)\n",
        "    model.compile(loss=categorical_crossentropy, optimizer=sgd, metrics=[\"accuracy\"])\n",
        "    history = model.fit(x_tr, y_tr, batch_size=CNN_PARAMS['batch_size'], \n",
        "                        epochs=CNN_PARAMS['epochs'], verbose=0)\n",
        "\n",
        "    score = model.evaluate(x_ts, y_ts, verbose=0) \n",
        "    cv_acc = score[1]*100\n",
        "\n",
        "    score_tr = model.evaluate(x_tr, y_tr, verbose = 0)\n",
        "    tr_acc = score[1]*100\n",
        "\n",
        "    return cv_acc, tr_acc"
      ],
      "metadata": {
        "id": "I26LLVkyDuPE"
      },
      "execution_count": null,
      "outputs": []
    },
    {
      "cell_type": "code",
      "execution_count": null,
      "metadata": {
        "id": "Hin5bW2iNaLo"
      },
      "outputs": [],
      "source": [
        "data_path = os.path.abspath('/content/drive/MyDrive/Work/Ahmadi roshan/Pilot 3/')\n",
        "\n",
        "CNN_PARAMS = {\n",
        "    'batch_size': 32,\n",
        "    'epochs': 100,\n",
        "    'droprate': 0.5,\n",
        "    'learning_rate': 0.001,\n",
        "    'lr_decay': 0.0,\n",
        "    'l2_lambda': 0.0001,\n",
        "    'momentum': 0.9,\n",
        "    'kernel_f': 10,\n",
        "    'n_ch': 10,\n",
        "    'num_classes': 5}\n",
        "\n",
        "FFT_PARAMS = {\n",
        "    'resolution': 0.2930,\n",
        "    'start_frequency': 3.0,\n",
        "    'end_frequency': 35.0,\n",
        "    'sampling_rate': 512\n",
        "}\n",
        "\n",
        "window_len = 3\n",
        "shift_len = 1\n",
        "    \n",
        "all_acc = np.zeros((10, 1))\n",
        "\n",
        "magnitude_spectrum_features = dict()\n",
        "complex_spectrum_features = dict()"
      ]
    },
    {
      "cell_type": "code",
      "execution_count": null,
      "metadata": {
        "id": "Mkz3vIKjNksy"
      },
      "outputs": [],
      "source": [
        "mcnn_training_data = dict()\n",
        "ccnn_training_data = dict()"
      ]
    },
    {
      "cell_type": "code",
      "execution_count": null,
      "metadata": {
        "id": "auhOMerPNoMM"
      },
      "outputs": [],
      "source": [
        "mcnn_results = dict()\n",
        "ccnn_results = dict()"
      ]
    },
    {
      "cell_type": "code",
      "execution_count": null,
      "metadata": {
        "id": "IDanCz5kNrEW",
        "colab": {
          "base_uri": "https://localhost:8080/"
        },
        "outputId": "38f6690e-f6a0-4b47-ec0c-e817476cdb9c"
      },
      "outputs": [
        {
          "output_type": "stream",
          "name": "stdout",
          "text": [
            "(5, 10, 2560, 20)\n",
            "(5, 10, 2047, 20)\n"
          ]
        }
      ],
      "source": [
        "all_segmented_data = dict()\n",
        "for subject in range(6, 7):\n",
        "    dataset = sio.loadmat(f'{data_path}/S0{subject+1}.mat')\n",
        "    eeg = np.array(dataset['eeg'], dtype='float32')\n",
        "    print(eeg.shape)\n",
        "    CNN_PARAMS['num_classes'] = eeg.shape[0]\n",
        "    CNN_PARAMS['n_ch'] = eeg.shape[1]\n",
        "    total_trial_len = eeg.shape[2]\n",
        "    num_trials = eeg.shape[3]\n",
        "    sample_rate = 512\n",
        "\n",
        "    filtered_data = su.get_filtered_eeg(eeg, 4, 45, 4, sample_rate)\n",
        "    print(filtered_data.shape)\n",
        "    all_segmented_data[f's{subject+1}'] = su.get_segmented_epochs(filtered_data, window_len, \n",
        "                                                                  shift_len, sample_rate)\n",
        "    "
      ]
    },
    {
      "cell_type": "code",
      "execution_count": null,
      "metadata": {
        "colab": {
          "base_uri": "https://localhost:8080/"
        },
        "id": "WpczJ8UemOAu",
        "outputId": "03bf23cc-8bea-403d-c87b-a6acd05eb9cd"
      },
      "outputs": [
        {
          "output_type": "stream",
          "name": "stdout",
          "text": [
            "(5, 10, 2047, 20)\n"
          ]
        }
      ],
      "source": [
        "print(filtered_data.shape)"
      ]
    },
    {
      "cell_type": "code",
      "execution_count": null,
      "metadata": {
        "colab": {
          "base_uri": "https://localhost:8080/"
        },
        "id": "uwiRTHTidCr2",
        "outputId": "8ff97823-26d5-42ac-f41b-b2e3c97cb8d1"
      },
      "outputs": [
        {
          "output_type": "stream",
          "name": "stdout",
          "text": [
            "(5, 10, 20, 2, 1536)\n"
          ]
        }
      ],
      "source": [
        "print(all_segmented_data['s7'].shape)"
      ]
    },
    {
      "cell_type": "code",
      "execution_count": null,
      "metadata": {
        "id": "jikaaBCPNu0B"
      },
      "outputs": [],
      "source": [
        "for subject in all_segmented_data.keys():\n",
        "    magnitude_spectrum_features[subject] = su.magnitude_spectrum_features(all_segmented_data[subject], \n",
        "                                                                          FFT_PARAMS)\n",
        "      \n",
        "\n",
        "    complex_spectrum_features[subject] = su.complex_spectrum_features(all_segmented_data[subject], \n",
        "                                                                      FFT_PARAMS)"
      ]
    },
    {
      "cell_type": "code",
      "execution_count": null,
      "metadata": {
        "colab": {
          "base_uri": "https://localhost:8080/"
        },
        "id": "L9p_N6S9eWvy",
        "outputId": "0b285a64-2549-4e98-b44a-174addd94f95"
      },
      "outputs": [
        {
          "output_type": "stream",
          "name": "stdout",
          "text": [
            "(220, 10, 5, 20, 2)\n"
          ]
        }
      ],
      "source": [
        "print(complex_spectrum_features['s7'].shape)"
      ]
    },
    {
      "cell_type": "markdown",
      "source": [
        "## Testing for block 19 and 20"
      ],
      "metadata": {
        "id": "-R96jgeYg18t"
      }
    },
    {
      "cell_type": "code",
      "source": [
        "for subject in all_segmented_data.keys():\n",
        "  train_part_of_data = magnitude_spectrum_features[subject][:,:,:,:18,:]\n",
        "  test_part_of_data = magnitude_spectrum_features[subject][:,:,:,18:,:]"
      ],
      "metadata": {
        "id": "3y4hHQiRFARp"
      },
      "execution_count": null,
      "outputs": []
    },
    {
      "cell_type": "code",
      "source": [
        "CNN_PARAMS['epochs'] = 200"
      ],
      "metadata": {
        "id": "hthviPIacaMz"
      },
      "execution_count": null,
      "outputs": []
    },
    {
      "cell_type": "code",
      "source": [
        "start_e = time.time()\n",
        "train_data, train_labels = get_training_data(train_part_of_data)\n",
        "test_data, test_labels = get_training_data(test_part_of_data)\n",
        "test_acc, tr_acc = train_CNN_block(train_data, train_labels, test_data, test_labels)\n",
        "end_e = time.time()\n",
        "print(\"train accuracy in M-CNN is: \", tr_acc)\n",
        "print(\"the final acc in M-CNN is: \", test_acc)\n",
        "print(\"elapsed time: \", end_e-start_e)"
      ],
      "metadata": {
        "colab": {
          "base_uri": "https://localhost:8080/"
        },
        "id": "pCiq0dGyFU3x",
        "outputId": "8a3f7856-865f-46f8-ebe2-554000a33bab"
      },
      "execution_count": null,
      "outputs": [
        {
          "output_type": "stream",
          "name": "stdout",
          "text": [
            "train accuracy in M-CNN is:  100.0\n",
            "the final acc in M-CNN is:  100.0\n",
            "elapsed time:  17.54795002937317\n"
          ]
        }
      ]
    },
    {
      "cell_type": "code",
      "source": [
        "for subject in all_segmented_data.keys():\n",
        "  train_part_of_data = complex_spectrum_features[subject][:,:,:,:18,:]\n",
        "  test_part_of_data = complex_spectrum_features[subject][:,:,:,18:,:]"
      ],
      "metadata": {
        "id": "5U3runzIQdac"
      },
      "execution_count": null,
      "outputs": []
    },
    {
      "cell_type": "code",
      "source": [
        "start_e = time.time()\n",
        "train_data, train_labels = get_training_data(train_part_of_data)\n",
        "test_data, test_labels = get_training_data(test_part_of_data)\n",
        "acc = train_CNN_block(train_data, train_labels, test_data, test_labels)\n",
        "end_e = time.time()\n",
        "print(\"the final acc in C-CNN is: \", acc)\n",
        "print(\"elapsed time: \", end_e-start_e)"
      ],
      "metadata": {
        "colab": {
          "base_uri": "https://localhost:8080/"
        },
        "id": "YsUQUFHeQfOM",
        "outputId": "09d55365-44fe-4dcb-b595-a9cb84d9651c"
      },
      "execution_count": null,
      "outputs": [
        {
          "output_type": "stream",
          "name": "stdout",
          "text": [
            "the final acc in C-CNN is:  (100.0, 100.0)\n",
            "elapsed time:  31.533177375793457\n"
          ]
        }
      ]
    },
    {
      "cell_type": "markdown",
      "source": [
        "## Block based Kfold cross validation"
      ],
      "metadata": {
        "id": "uXtnSIW7hMqO"
      }
    },
    {
      "cell_type": "code",
      "source": [
        "CNN_PARAMS['epochs'] = 100"
      ],
      "metadata": {
        "id": "19UkXY42mol5"
      },
      "execution_count": null,
      "outputs": []
    },
    {
      "cell_type": "code",
      "source": [
        "for subject in all_segmented_data.keys():\n",
        "  tests = range(0, 20, 2)\n",
        "  accuracies = []\n",
        "  for ind, test in enumerate(tests):\n",
        "    train_ind = [i for i in range(20) if i != test and i != test+1]\n",
        "    test_ind = [i for i in range(20) if i == test or i == test+1]\n",
        "    train_part_of_data =  magnitude_spectrum_features[subject][:,:,:,train_ind,:]\n",
        "    test_part_of_data = magnitude_spectrum_features[subject][:,:,:,test_ind,:]\n",
        "    train_data, train_labels = get_training_data(train_part_of_data)\n",
        "    test_data, test_labels = get_training_data(test_part_of_data)\n",
        "    acc = train_CNN_block(train_data, train_labels, test_data, test_labels)\n",
        "    print(\"train accuracy for set \", ind+1, \":\", acc[1])\n",
        "    print(\"test accuracy for set \", ind+1, \":\", acc[0])\n",
        "    print('-'*10)\n",
        "    accuracies.append(acc[0])\n",
        "print(\"final accuracy is :\", np.mean(np.array(accuracies)))"
      ],
      "metadata": {
        "colab": {
          "base_uri": "https://localhost:8080/"
        },
        "id": "hM1My-Q1lvSM",
        "outputId": "93125e36-c35a-4422-ddea-41d244d8c960"
      },
      "execution_count": null,
      "outputs": [
        {
          "output_type": "stream",
          "name": "stdout",
          "text": [
            "train accuracy for set  1 : 100.0\n",
            "test accuracy for set  1 : 100.0\n",
            "----------\n",
            "train accuracy for set  2 : 100.0\n",
            "test accuracy for set  2 : 100.0\n",
            "----------\n",
            "train accuracy for set  3 : 100.0\n",
            "test accuracy for set  3 : 100.0\n",
            "----------\n",
            "train accuracy for set  4 : 89.99999761581421\n",
            "test accuracy for set  4 : 89.99999761581421\n",
            "----------\n",
            "train accuracy for set  5 : 89.99999761581421\n",
            "test accuracy for set  5 : 89.99999761581421\n",
            "----------\n",
            "train accuracy for set  6 : 100.0\n",
            "test accuracy for set  6 : 100.0\n",
            "----------\n",
            "train accuracy for set  7 : 100.0\n",
            "test accuracy for set  7 : 100.0\n",
            "----------\n",
            "train accuracy for set  8 : 100.0\n",
            "test accuracy for set  8 : 100.0\n",
            "----------\n",
            "train accuracy for set  9 : 94.9999988079071\n",
            "test accuracy for set  9 : 94.9999988079071\n",
            "----------\n",
            "train accuracy for set  10 : 100.0\n",
            "test accuracy for set  10 : 100.0\n",
            "----------\n",
            "final accuracy is : 97.49999940395355\n"
          ]
        }
      ]
    },
    {
      "cell_type": "code",
      "source": [
        "for subject in all_segmented_data.keys():\n",
        "  tests = range(0, 20, 2)\n",
        "  accuracies = []\n",
        "  for ind, test in enumerate(tests):\n",
        "    train_ind = [i for i in range(20) if i != test and i != test+1]\n",
        "    test_ind = [i for i in range(20) if i == test or i == test+1]\n",
        "    train_part_of_data =  complex_spectrum_features[subject][:,:,:,train_ind,:]\n",
        "    test_part_of_data = complex_spectrum_features[subject][:,:,:,test_ind,:]\n",
        "    train_data, train_labels = get_training_data(train_part_of_data)\n",
        "    test_data, test_labels = get_training_data(test_part_of_data)\n",
        "    acc = train_CNN_block(train_data, train_labels, test_data, test_labels)\n",
        "    # print(\"train accuracy for set \", ind+1, \":\", acc[1])\n",
        "    print(\"test accuracy for set \", ind+1, \":\", acc[0])\n",
        "    print('-'*10)\n",
        "    accuracies.append(acc[0])\n",
        "print(\"final accuracy is :\", np.mean(np.array(accuracies)))"
      ],
      "metadata": {
        "colab": {
          "base_uri": "https://localhost:8080/"
        },
        "id": "Cep1XGH_hTqc",
        "outputId": "5ce42d91-a778-4008-e447-1ab0a975f3fc"
      },
      "execution_count": null,
      "outputs": [
        {
          "output_type": "stream",
          "name": "stdout",
          "text": [
            "test accuracy for set  1 : 89.99999761581421\n",
            "----------\n",
            "test accuracy for set  2 : 100.0\n",
            "----------\n",
            "test accuracy for set  3 : 94.9999988079071\n",
            "----------\n",
            "test accuracy for set  4 : 100.0\n",
            "----------\n",
            "test accuracy for set  5 : 100.0\n",
            "----------\n",
            "test accuracy for set  6 : 100.0\n",
            "----------\n",
            "test accuracy for set  7 : 85.00000238418579\n",
            "----------\n",
            "test accuracy for set  8 : 100.0\n",
            "----------\n",
            "test accuracy for set  9 : 100.0\n",
            "----------\n",
            "test accuracy for set  10 : 100.0\n",
            "----------\n",
            "final accuracy is : 96.99999988079071\n"
          ]
        }
      ]
    },
    {
      "cell_type": "markdown",
      "source": [
        "## KFold cross validation"
      ],
      "metadata": {
        "id": "tM35UuqJg8tb"
      }
    },
    {
      "cell_type": "code",
      "execution_count": null,
      "metadata": {
        "id": "hPGv_6zlNy8m"
      },
      "outputs": [],
      "source": [
        "for subject in all_segmented_data.keys():\n",
        "    mcnn_training_data[subject] = dict()\n",
        "    ccnn_training_data[subject] = dict()\n",
        "    train_data, labels = get_training_data(magnitude_spectrum_features[subject])\n",
        "    mcnn_training_data[subject]['train_data'] = train_data\n",
        "    mcnn_training_data[subject]['label'] = labels\n",
        "    \n",
        "    train_data, labels = get_training_data(complex_spectrum_features[subject])\n",
        "    ccnn_training_data[subject]['train_data'] = train_data\n",
        "    ccnn_training_data[subject]['label'] = labels"
      ]
    },
    {
      "cell_type": "code",
      "execution_count": null,
      "metadata": {
        "colab": {
          "base_uri": "https://localhost:8080/"
        },
        "id": "IUo87bsmf7DK",
        "outputId": "b970b5e5-6f3e-4a97-cbf5-1cd50f868c80"
      },
      "outputs": [
        {
          "output_type": "stream",
          "name": "stdout",
          "text": [
            "(200, 10, 220, 1)\n"
          ]
        }
      ],
      "source": [
        "print(ccnn_training_data['s7']['train_data'].shape)"
      ]
    },
    {
      "cell_type": "code",
      "execution_count": null,
      "metadata": {
        "id": "RHaA2QoLN5RT",
        "colab": {
          "base_uri": "https://localhost:8080/"
        },
        "outputId": "e7dc8a7c-cd40-44cb-9d9f-524ea6035c27"
      },
      "outputs": [
        {
          "output_type": "stream",
          "name": "stdout",
          "text": [
            "\n",
            "MCNN - Subject: s7\n",
            "shape:  (200, 10, 110, 1)\n",
            "cv1:100.00% cv2:95.00% cv3:100.00% cv4:100.00% cv5:100.00% cv6:100.00% cv7:100.00% cv8:100.00% cv9:95.00% cv10:100.00% \n",
            "Accuracy: 99.000000%\n",
            "Overall Accuracy MCNN - 99.00%\n",
            "Execution time: 131.29001712799072 seconds\n"
          ]
        }
      ],
      "source": [
        "start_e = time.time()\n",
        "\n",
        "for subject in mcnn_training_data.keys():\n",
        "    print(f'\\nMCNN - Subject: {subject}')\n",
        "    print(\"shape: \", mcnn_training_data[subject]['train_data'].shape)\n",
        "    train_data = mcnn_training_data[subject]['train_data']\n",
        "    labels = mcnn_training_data[subject]['label']\n",
        "    \n",
        "    cv_acc = train_CNN_cross_val_predict(train_data, labels, 10)\n",
        "    mcnn_results[subject] = np.mean(cv_acc)\n",
        "    print(f'\\nAccuracy: {mcnn_results[subject]:2f}%')\n",
        "\n",
        "mcnn_overall_accuracy = np.mean(np.fromiter(mcnn_results.values(), dtype=float))    \n",
        "print(f'Overall Accuracy MCNN - {mcnn_overall_accuracy:.2f}%')\n",
        "end_e = time.time()\n",
        "\n",
        "elapsed_time = end_e - start_e\n",
        "print('Execution time:', elapsed_time, 'seconds')"
      ]
    },
    {
      "cell_type": "code",
      "execution_count": null,
      "metadata": {
        "colab": {
          "base_uri": "https://localhost:8080/"
        },
        "id": "41A8zhhiUmSJ",
        "outputId": "d3f3b0aa-189a-425b-a69c-aca6ea879ed4"
      },
      "outputs": [
        {
          "output_type": "stream",
          "name": "stdout",
          "text": [
            "\n",
            "CCNN - Subject: s7\n",
            "cv1:100.00% cv2:100.00% cv3:100.00% cv4:100.00% cv5:100.00% cv6:100.00% cv7:95.00% cv8:100.00% cv9:100.00% cv10:100.00% \n",
            "Accuracy: 99.50%\n",
            "Overall Accuracy CCNN - 99.50%\n",
            "Execution time: 227.90851974487305 seconds\n"
          ]
        }
      ],
      "source": [
        "CNN_PARAMS['epochs'] = 150\n",
        "start_e = time.time()\n",
        "\n",
        "for subject in ccnn_training_data.keys():\n",
        "    print(f'\\nCCNN - Subject: {subject}')\n",
        "    train_data = ccnn_training_data[subject]['train_data']\n",
        "    labels = ccnn_training_data[subject]['label']\n",
        "    \n",
        "    cv_acc = train_CNN_cross_val_predict(train_data, labels, 10)\n",
        "    ccnn_results[subject] = np.mean(cv_acc)\n",
        "    print(f'\\nAccuracy: {ccnn_results[subject]:.2f}%')\n",
        "\n",
        "ccnn_overall_accuracy = np.mean(np.fromiter(ccnn_results.values(), dtype=float))    \n",
        "print(f'Overall Accuracy CCNN - {ccnn_overall_accuracy:.2f}%')\n",
        "end_e = time.time()\n",
        "\n",
        "elapsed_time = end_e - start_e\n",
        "print('Execution time:', elapsed_time, 'seconds')"
      ]
    },
    {
      "cell_type": "code",
      "execution_count": null,
      "metadata": {
        "id": "Hdol3dyNUnZU"
      },
      "outputs": [],
      "source": [
        "results = pd.DataFrame({'mcnn': np.fromiter(mcnn_results.values(), dtype=float), \n",
        "              'ccnn': np.fromiter(ccnn_results.values(), dtype=float)})"
      ]
    },
    {
      "cell_type": "code",
      "execution_count": null,
      "metadata": {
        "colab": {
          "base_uri": "https://localhost:8080/"
        },
        "id": "zK81BUrTUrw8",
        "outputId": "43ffbdd6-a4d6-44f6-bb60-478c34087735"
      },
      "outputs": [
        {
          "name": "stdout",
          "output_type": "stream",
          "text": [
            "        mcnn       ccnn\n",
            "0  94.999999  94.999999\n"
          ]
        }
      ],
      "source": [
        "print(results)"
      ]
    },
    {
      "cell_type": "code",
      "execution_count": null,
      "metadata": {
        "colab": {
          "base_uri": "https://localhost:8080/",
          "height": 265
        },
        "id": "EaDx-ndmUvMz",
        "outputId": "54f855e2-5db8-4f18-923b-0c2e131f388a"
      },
      "outputs": [
        {
          "data": {
            "image/png": "[encoded data removed]",
            "text/plain": [
              "<Figure size 864x288 with 1 Axes>"
            ]
          },
          "metadata": {},
          "output_type": "display_data"
        }
      ],
      "source": [
        "results.boxplot(figsize=(12, 4), column=['mcnn', 'ccnn'])\n",
        "plt.ylabel('Accuracy')\n",
        "plt.show()"
      ]
    },
    {
      "cell_type": "code",
      "execution_count": null,
      "metadata": {
        "colab": {
          "base_uri": "https://localhost:8080/",
          "height": 292
        },
        "id": "kSP8iHFrUyLf",
        "outputId": "e2293ccb-ee61-4aec-d830-80bfdc0238a3"
      },
      "outputs": [
        {
          "data": {
            "image/png": "[encoded data removed]",
            "text/plain": [
              "<Figure size 864x288 with 1 Axes>"
            ]
          },
          "metadata": {},
          "output_type": "display_data"
        }
      ],
      "source": [
        "results.plot.bar(figsize=(12, 4), title='Comparing User-Dependent Training of MCNN and CCCN')\n",
        "plt.xlabel('Subject')\n",
        "plt.ylabel('Accuracy')\n",
        "plt.show()"
      ]
    }
  ],
  "metadata": {
    "colab": {
      "collapsed_sections": [],
      "provenance": []
    },
    "kernelspec": {
      "display_name": "Python 3",
      "name": "python3"
    },
    "language_info": {
      "name": "python"
    },
    "gpuClass": "standard"
  },
  "nbformat": 4,
  "nbformat_minor": 0
}